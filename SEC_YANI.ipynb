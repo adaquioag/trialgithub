{
 "cells": [
  {
   "cell_type": "code",
   "execution_count": 6,
   "id": "47cce753-8e1d-47ef-9ef6-969a4d9b22e4",
   "metadata": {
    "tags": []
   },
   "outputs": [],
   "source": [
    "import datetime\n",
    "import pandas as pd\n",
    "from glob import glob\n",
    "import os\n",
    "import numpy as np\n",
    "import gc\n",
    "\n",
    "#Settings\n",
    "pd.options.display.float_format = '{:,.2f}'.format\n",
    "pd.set_option('display.max_columns', None)\n",
    "pd.set_option('display.max_rows', None)\n",
    "\n",
    "from tqdm import tqdm_notebook as tqdm\n",
    "from tqdm.notebook import tqdm"
   ]
  },
  {
   "cell_type": "markdown",
   "id": "a090c1d9-f597-4da6-80b1-7d6e51fadfc0",
   "metadata": {
    "tags": []
   },
   "source": [
    "# Input Dependencies"
   ]
  },
  {
   "cell_type": "markdown",
   "id": "dc1cc7e4-deb5-4de1-87da-6cd40abad0e9",
   "metadata": {},
   "source": [
    "## 1.  Directory and Date"
   ]
  },
  {
   "cell_type": "code",
   "execution_count": 5,
   "id": "195ab3aa-f195-4de3-8e9a-2de33a0f020a",
   "metadata": {
    "tags": []
   },
   "outputs": [
    {
     "name": "stdout",
     "output_type": "stream",
     "text": [
      "20240502 202402 202401 202312 202311 N\n",
      "s3://bpiprodda-sagemaker-strg/DATASETS\n"
     ]
    }
   ],
   "source": [
    "\"\"\"\n",
    "root: filepath of the user that will run the notebook\n",
    "date: date of the re-run in YYYYMM format\n",
    "baseYY: specify baseYY - if this is the run for baseYY (ex. base23). \"N\" - else.\n",
    "\"\"\"\n",
    "\n",
    "\n",
    "date_today = datetime.date.today().strftime('%Y%m%d')\n",
    "\n",
    "# setup root for s3 path (this should not be used when using blob)\n",
    "root=r's3://bpiprodda-sagemaker-strg/DATASETS'\n",
    "\n",
    "# setting up date variables\n",
    "date_ = \"202402\" #YYYYMM format\n",
    "prev_date = str(datetime.datetime.strftime(datetime.datetime.strptime(date_,'%Y%m') - pd.DateOffset(months=1),'%Y%m'))\n",
    "prev_date_1 = str(datetime.datetime.strftime(datetime.datetime.strptime(prev_date,'%Y%m') - pd.DateOffset(months=1),'%Y%m'))\n",
    "prev_date_2 = str(datetime.datetime.strftime(datetime.datetime.strptime(prev_date_1,'%Y%m') - pd.DateOffset(months=1),'%Y%m'))\n",
    "\n",
    "\n",
    "# baseYY = \"base23\"   change to \"Y\" if for base24\n",
    "# base24 == client base as of Dec. 31 2023 but with 2024 re-based segments\n",
    "baseYY = \"N\"   \n",
    "\n",
    "if baseYY == \"base23\":\n",
    "    date_ = \"20\"+str(int(baseYY[4:6])-1)+\"12\"\n",
    "    # date_ = \"20\"+baseYY[4:6]+\"01\"\n",
    "    print(date_)\n",
    "       \n",
    "print(date_today, date_,prev_date,prev_date_1, prev_date_2, baseYY)\n",
    "print(root)"
   ]
  },
  {
   "cell_type": "markdown",
   "id": "a5ca657e-11c5-466c-bbce-f9b1377dbcc3",
   "metadata": {},
   "source": [
    "## 3. BASE POP - Scorecard"
   ]
  },
  {
   "cell_type": "code",
   "execution_count": 8,
   "id": "b0eca42b-d0d0-4b7c-b13f-861d5cdf82ea",
   "metadata": {
    "tags": []
   },
   "outputs": [],
   "source": [
    "def get_retail_clients(scorecard_file, output_file, ip, base_filter):\n",
    "    #segments\n",
    "    segment = ['d.Core Mass', 'c.Mid-Market', 'b.Affluent', 'a.Private']\n",
    "    segment2 = []\n",
    "\n",
    "    #scorecard attrition tags\n",
    "    attrited = ['BASE_ATTRITED', 'NEW_ATTRITED']\n",
    "\n",
    "    #initial filter\n",
    "    if base_filter==True:\n",
    "        filter_ = \"cl_id2 in @segment& \\\n",
    "                   CST_ID.notna() & \\\n",
    "                   CST_ID!=0\"\n",
    "        df_cols = ['CST_ID','cl_id2','cl_id4']\n",
    "    else:\n",
    "        filter_ = \"scorecard_id not in @attrited & \\\n",
    "                 cl_id2 in @segment & \\\n",
    "                 CST_ID.notna() & \\\n",
    "                 CST_ID!=0\"\n",
    "        df_cols = ['CST_ID','cl_id2','cl_id4','scorecard_id']\n",
    "\n",
    "    #set ip to True if ip_type is included\n",
    "    if ip == True:\n",
    "        filter_ = filter_+\"& ip_type == '01'\"\n",
    "        df_cols = df_cols + ['ip_type']\n",
    "\n",
    "    df = (pd.read_parquet(scorecard_file, columns=df_cols)\n",
    "           .query(filter_, engine=\"python\")\n",
    "           [[\"CST_ID\",\"cl_id2\",\"cl_id4\"]]\n",
    "           .sort_values(\"CST_ID\"))\n",
    "\n",
    "    #print(f\"saving to {output_file}\")\n",
    "    #df.to_parquet(output_file)\n",
    "\n",
    "    gc.collect()\n",
    "\n",
    "    return df"
   ]
  },
  {
   "cell_type": "code",
   "execution_count": 9,
   "id": "e1e11a6f-9666-4e02-bcea-3fc7560c62e2",
   "metadata": {
    "tags": []
   },
   "outputs": [
    {
     "name": "stdout",
     "output_type": "stream",
     "text": [
      "s3://bpiprodda-sagemaker-strg/DATASETS/REGULAR_DATA/CLIENT_SEGMENTS/CST_SCORECARD/cst_scorecard_202402.parquet\n",
      "<class 'pandas.core.frame.DataFrame'>\n",
      "Index: 10488834 entries, 0 to 11101447\n",
      "Data columns (total 3 columns):\n",
      " #   Column  Dtype  \n",
      "---  ------  -----  \n",
      " 0   CST_ID  float64\n",
      " 1   cl_id2  object \n",
      " 2   cl_id4  object \n",
      "dtypes: float64(1), object(2)\n",
      "memory usage: 320.1+ MB\n"
     ]
    },
    {
     "data": {
      "text/plain": [
       "None"
      ]
     },
     "metadata": {},
     "output_type": "display_data"
    },
    {
     "data": {
      "text/html": [
       "<div>\n",
       "<style scoped>\n",
       "    .dataframe tbody tr th:only-of-type {\n",
       "        vertical-align: middle;\n",
       "    }\n",
       "\n",
       "    .dataframe tbody tr th {\n",
       "        vertical-align: top;\n",
       "    }\n",
       "\n",
       "    .dataframe thead th {\n",
       "        text-align: right;\n",
       "    }\n",
       "</style>\n",
       "<table border=\"1\" class=\"dataframe\">\n",
       "  <thead>\n",
       "    <tr style=\"text-align: right;\">\n",
       "      <th></th>\n",
       "      <th>CST_ID</th>\n",
       "      <th>cl_id2</th>\n",
       "      <th>cl_id4</th>\n",
       "    </tr>\n",
       "  </thead>\n",
       "  <tbody>\n",
       "    <tr>\n",
       "      <th>0</th>\n",
       "      <td>20.00</td>\n",
       "      <td>d.Core Mass</td>\n",
       "      <td>d1.Core Mass</td>\n",
       "    </tr>\n",
       "    <tr>\n",
       "      <th>1</th>\n",
       "      <td>100.00</td>\n",
       "      <td>b.Affluent</td>\n",
       "      <td>b1.Gold</td>\n",
       "    </tr>\n",
       "    <tr>\n",
       "      <th>2</th>\n",
       "      <td>320.00</td>\n",
       "      <td>d.Core Mass</td>\n",
       "      <td>d1.Core Mass</td>\n",
       "    </tr>\n",
       "    <tr>\n",
       "      <th>3</th>\n",
       "      <td>420.00</td>\n",
       "      <td>d.Core Mass</td>\n",
       "      <td>d1.Core Mass</td>\n",
       "    </tr>\n",
       "    <tr>\n",
       "      <th>4</th>\n",
       "      <td>610.00</td>\n",
       "      <td>b.Affluent</td>\n",
       "      <td>b3.Next</td>\n",
       "    </tr>\n",
       "  </tbody>\n",
       "</table>\n",
       "</div>"
      ],
      "text/plain": [
       "   CST_ID       cl_id2        cl_id4\n",
       "0   20.00  d.Core Mass  d1.Core Mass\n",
       "1  100.00   b.Affluent       b1.Gold\n",
       "2  320.00  d.Core Mass  d1.Core Mass\n",
       "3  420.00  d.Core Mass  d1.Core Mass\n",
       "4  610.00   b.Affluent       b3.Next"
      ]
     },
     "metadata": {},
     "output_type": "display_data"
    },
    {
     "name": "stdout",
     "output_type": "stream",
     "text": [
      "CPU times: user 3.86 s, sys: 1.13 s, total: 4.99 s\n",
      "Wall time: 4.29 s\n"
     ]
    }
   ],
   "source": [
    "%%time\n",
    "if baseYY == \"N\":\n",
    "    try:\n",
    "        try:\n",
    "            scorecard_file = root+fr\"/REGULAR_DATA/CLIENT_SEGMENTS/CST_SCORECARD/cst_scorecard_{date_}.parquet\"\n",
    "        except:\n",
    "            scorecard_file = root+fr\"/REGULAR_DATA/CLIENT_SEGMENTS/CST_SCORECARD/cst_scorecard_{date_}_b.parquet\"\n",
    "    except: #use prev month if current not yet available\n",
    "        try:\n",
    "            scorecard_file = root+fr\"/REGULAR_DATA/CLIENT_SEGMENTS/CST_SCORECARD/cst_scorecard_{prev_date}.parquet\"\n",
    "        except:\n",
    "            scorecard_file = root+fr\"/REGULAR_DATA/CLIENT_SEGMENTS/CST_SCORECARD/cst_scorecard_{prev_date}_b.parquet\"    \n",
    "    base_filter = False\n",
    "else:\n",
    "    # upload base in base folder\n",
    "    scorecard_file = fr\"cst_scorecard_b_{baseYY}.parquet\"\n",
    "    base_filter = True\n",
    "# not included ip_type filter\n",
    "output_file = r\"retail.parquet\"\n",
    "retail_wo_ip = get_retail_clients(scorecard_file, output_file=output_file, ip=False, base_filter=base_filter)\n",
    "print(scorecard_file)\n",
    "display(retail_wo_ip.info())\n",
    "display(retail_wo_ip.head())\n"
   ]
  },
  {
   "cell_type": "code",
   "execution_count": 10,
   "id": "e6d2fd3a-3185-46a2-ab82-a603413d4159",
   "metadata": {
    "tags": []
   },
   "outputs": [],
   "source": [
    "retail_id = retail_wo_ip[\"CST_ID\"]"
   ]
  },
  {
   "cell_type": "markdown",
   "id": "452c8a14-66db-4a5f-99da-ba082f00cd6e",
   "metadata": {},
   "source": [
    "## 5. cstsmy"
   ]
  },
  {
   "cell_type": "code",
   "execution_count": null,
   "id": "e3f514a1-e89b-4629-9c97-277b2f828ae7",
   "metadata": {
    "tags": []
   },
   "outputs": [
    {
     "data": {
      "text/plain": [
       "'used prev month:'"
      ]
     },
     "metadata": {},
     "output_type": "display_data"
    }
   ],
   "source": [
    "%%time\n",
    "gc.collect()\n",
    "#get customer age and setup generation from which the client belongs to\n",
    "try:\n",
    "       smy = (pd.read_parquet(root+rf\"/REGULAR_DATA/CLIENT_SEGMENTS/CSTSMY/cstsmy_{date_}.parquet\",\n",
    "                            columns=['CST_ID', 'CST_AGE', 'BRTH_DT'])\n",
    "              .query(\"CST_ID in @retail_id\",engine=\"python\")\n",
    "              .set_index('CST_ID'))\n",
    "except: #use prev month if current not yet available\n",
    "       smy = (pd.read_parquet(root+rf\"/REGULAR_DATA/CLIENT_SEGMENTS/CSTSMY/cstsmy_{prev_date}.parquet\",\n",
    "                            columns=['CST_ID', 'CST_AGE', 'BRTH_DT'])\n",
    "              .query(\"CST_ID in @retail_id\",engine=\"python\")\n",
    "              .set_index('CST_ID'))\n",
    "       display(\"used prev month:\", smy)\n",
    "\n",
    "smy['YEAR'] = smy['BRTH_DT'].dt.year\n",
    "year = datetime.date.today().year\n",
    "smy['Generation'] = pd.cut(smy['YEAR'].fillna(year - smy.CST_AGE), bins=[0,1965,1981,1997,2013,year+1],\n",
    "                           labels=['Boomers', 'Gen X', 'Millenials', 'Gen Z', 'Gen Alpha'],\n",
    "                           right=False)\n",
    "display(smy.head())"
   ]
  },
  {
   "cell_type": "markdown",
   "id": "fbd2014c-f7f5-4324-9369-78baab406150",
   "metadata": {},
   "source": [
    "## 6. Income Data"
   ]
  },
  {
   "cell_type": "markdown",
   "id": "14687964-8654-4f9f-b47a-ee241f50052e",
   "metadata": {},
   "source": [
    "### 6.1 Payroll (BizLink)"
   ]
  },
  {
   "cell_type": "code",
   "execution_count": null,
   "id": "bb4d37b2-313c-4e24-912d-ff97fc3d2ec2",
   "metadata": {
    "tags": []
   },
   "outputs": [],
   "source": [
    "def get_files_capdate(path_list, date_):\n",
    "    sampfiles = []\n",
    "    counter = 1\n",
    "    for file in path_list:\n",
    "        if counter == 1:\n",
    "            sampfiles.append(file)\n",
    "            if file[-14:-8] == date_:\n",
    "                counter=0\n",
    "        else:\n",
    "            pass\n",
    "    return sampfiles"
   ]
  },
  {
   "cell_type": "code",
   "execution_count": null,
   "id": "6920a56b-be7e-4f30-9df4-138e2323abf2",
   "metadata": {
    "tags": []
   },
   "outputs": [],
   "source": [
    "%%time\n",
    "def read_payroll(path):\n",
    "    # Average of monthly historical\n",
    "     return pd.concat([pd.read_parquet(f).query(\"TXN_TYPE=='PAY'\")\\\n",
    "                .query(\"CR_CST_ID in @retail_id\",engine=\"python\")\n",
    "                .assign(PERIOD = lambda x: x['DATE'] + pd.offsets.MonthEnd(0))\\\n",
    "                .groupby(['PERIOD','CR_CST_ID'])['AMOUNT'].sum().reset_index()\\\n",
    "                for f in path])\\\n",
    "                .groupby('CR_CST_ID').mean().reset_index()\\\n",
    "                .rename(columns={'AMOUNT':'PAYROLL_AVG','CR_CST_ID':'CST_ID'})\\\n",
    "                .set_index('CST_ID')\n",
    "gc.collect()\n",
    "\n",
    "# BPI Payroll\n",
    "try:\n",
    "    pay = read_payroll(get_files_capdate(path_list=blob.blob(r\"DATASETS/REGULAR_DATA/CORPORATE_AND_BUSINESS_BANK/BIZLINK/BIZLINK_TXN/bizlink_202*.parquet\"), date_=date_))\n",
    "except: #use prev month if curr not available\n",
    "    display(\"used prev month data\")\n",
    "    pay = read_payroll(get_files_capdate(path_list=blob.blob(r\"DATASETS/REGULAR_DATA/CORPORATE_AND_BUSINESS_BANK/BIZLINK/BIZLINK_TXN/bizlink_202*.parquet\"), date_=prev_date))\n",
    "display(pay.head())"
   ]
  },
  {
   "cell_type": "markdown",
   "id": "ad67daee-ef3e-4b6c-88f7-7d6030fc227d",
   "metadata": {},
   "source": [
    "### 6.2 Transaction Amount - Local (TXN_STIM)"
   ]
  },
  {
   "cell_type": "code",
   "execution_count": null,
   "id": "1bb45fd7-6873-4170-9455-71c74e3d9605",
   "metadata": {
    "tags": []
   },
   "outputs": [],
   "source": [
    "def behavior_filter_file(file_folder, start, end):\n",
    "    \"\"\"\n",
    "    FOR BEHAVIOR SET\n",
    "    filters folder by start and end date\n",
    "    Input:\n",
    "    file_folder - folder location\n",
    "    start - YYYY-MM format\n",
    "    end - YYYY-MM format\n",
    "    \n",
    "    Output:\n",
    "    list of files from start to end date\n",
    "    \"\"\"\n",
    "    files = blob.blob(file_folder)\n",
    "    date_filter = [date.replace(\"-\",\"\") for date in pd.period_range(start=start, end=end, freq='M').astype(str).to_list()]\n",
    "    \n",
    "    filtered_files = [file for file in files for date in date_filter if date in file]\n",
    "    return filtered_files\n",
    "\n",
    "# For payroll/salary from TXN_STIM\n",
    "def read_txim(file):\n",
    "    df = (pd.read_parquet(file, columns=['CST_ID', 'TXN_EFF_DT', 'TXN_AMT_LOCAL', 'TXN_TYP_ID', 'INPUT_SRC_APPL'])\n",
    "            .query(\"CST_ID in @retail_id & TXN_TYP_ID=='4347' & INPUT_SRC_APPL=='HM'\")\n",
    "            .assign(MONTH = lambda x:x[\"TXN_EFF_DT\"].dt.to_period(\"M\"))\n",
    "            .rename(columns = {'TXN_AMT_LOCAL':'AMOUNT'})\n",
    "            .groupby([\"CST_ID\",\"MONTH\"])\n",
    "            .agg({\"AMOUNT\":\"sum\"}))\n",
    "    \n",
    "    gc.collect()\n",
    "    return df\n",
    "\n",
    "def combine_txim(file_folder, start, end):\n",
    "    \n",
    "    filtered_files = behavior_filter_file(file_folder, start, end)\n",
    "    num_months = len(filtered_files)\n",
    "    \n",
    "    print(f\"reading txim data...\")\n",
    "    all_stim= (pd.concat([read_txim(file) for file in tqdm(filtered_files)])\n",
    "                      .groupby(\"CST_ID\").agg(TOT_TXN_AMT = (\"AMOUNT\", \"sum\"))\n",
    "                      .assign(STIM_PAY = lambda x: x[\"TOT_TXN_AMT\"].div(num_months))[[\"STIM_PAY\"]])\n",
    "    gc.collect()\n",
    "    return all_stim\n",
    "\n",
    "# For all total credits to the accounts (incoming)\n",
    "def read_txim_cred(file):\n",
    "    df = (pd.read_parquet(file, columns=['CST_ID','TXN_EFF_DT','TXN_AMT_LOCAL', 'DB_CR_CODE'])\n",
    "            .query(\"CST_ID in @retail_id & DB_CR_CODE == 'CR'\")\n",
    "            .assign(MONTH = lambda x:x[\"TXN_EFF_DT\"].dt.to_period(\"M\"))\n",
    "            .rename(columns = {'TXN_AMT_LOCAL':'AMOUNT'})\n",
    "            .groupby([\"CST_ID\",\"MONTH\"])\n",
    "            .agg({\"AMOUNT\":\"sum\"}))\n",
    "    gc.collect()\n",
    "    return df\n",
    "\n",
    "def combine_txim_cred(file_folder, start, end):\n",
    "    \n",
    "    filtered_files = behavior_filter_file(file_folder, start, end)\n",
    "    num_months = len(filtered_files)\n",
    "    \n",
    "    print(f\"reading txim data...\")\n",
    "    all_stim= (pd.concat([read_txim_cred(file) for file in tqdm(filtered_files)])\n",
    "                      .groupby(\"CST_ID\").agg(TOT_TXN_AMT = (\"AMOUNT\", \"sum\"))\n",
    "                      .assign(STIM_CRED = lambda x: x[\"TOT_TXN_AMT\"].div(num_months))[[\"STIM_CRED\"]])\n",
    "    gc.collect()\n",
    "    return all_stim"
   ]
  },
  {
   "cell_type": "code",
   "execution_count": null,
   "id": "b36ff9cc-a9df-46d0-8cd4-d00ac8df5022",
   "metadata": {
    "tags": []
   },
   "outputs": [],
   "source": [
    "%%time\n",
    "gc.collect()\n",
    "stim_folder = rf\"DATASETS/REGULAR_DATA/DEPOSITS/TXN_STIM/*.parquet\"\n",
    "if root+rf\"/REGULAR_DATA/DEPOSITS/TXN_STIM/TXN_STIM_{date_}.parquet\" in blob.blob(rf\"DATASETS/REGULAR_DATA/DEPOSITS/TXN_STIM/*.parquet\"):\n",
    "    start=(datetime.datetime.strptime(date_,'%Y%m')-pd.offsets.MonthEnd(11)).strftime('%Y%m')\n",
    "    all_stim = combine_txim(stim_folder,start=start,end=date_)\n",
    "    gc.collect()\n",
    "\n",
    "    #read stim cred txns\n",
    "    all_stim_cred = combine_txim_cred(stim_folder, start=start, end=date_)\n",
    "    display(all_stim_cred.head())\n",
    "\n",
    "else: # use prev month if curr not available\n",
    "    display(\"used prev month data\")\n",
    "    start=(datetime.datetime.strptime(prev_date,'%Y%m')-pd.offsets.MonthEnd(11)).strftime('%Y%m')\n",
    "    all_stim = combine_txim(stim_folder,start=start,end=prev_date)\n",
    "    gc.collect()\n",
    "\n",
    "    #read stim cred txns\n",
    "    all_stim_cred = combine_txim_cred(stim_folder, start=start, end=prev_date)\n",
    "    display(all_stim_cred.head())\n",
    "\n",
    "gc.collect()\n",
    "gc.collect()\n"
   ]
  },
  {
   "cell_type": "markdown",
   "id": "36c2f888-571e-427d-8a9b-fe292ab5a180",
   "metadata": {},
   "source": [
    "### 6.3 Annual Income (TU Replicate)"
   ]
  },
  {
   "cell_type": "code",
   "execution_count": null,
   "id": "74506dcc-df54-4d15-9b1d-74bf4395e4e2",
   "metadata": {
    "tags": []
   },
   "outputs": [],
   "source": [
    "%%time\n",
    "gc.collect()\n",
    "# Transunion PH Credit Card data on annual income \n",
    "tu = pd.read_parquet(r\"/root/SEC/TU/TU_2021_Dec2021.parquet\")\\\n",
    "                .filter(regex = 'CST_ID|INC').query(\"CST_ID in @retail_id & ANNUAL_INCOME>0\", engine=\"python\")\\\n",
    "                .assign(TU_INCOME = lambda _: _.ANNUAL_INCOME/12)\\\n",
    "                .drop(columns=['ANNUAL_INCOME'])\\\n",
    "                .sort_values(by='TU_INCOME', ascending=False)\\\n",
    "                .drop_duplicates(subset=['CST_ID'], keep='first')\\\n",
    "                .set_index('CST_ID')\n",
    "\n",
    "display(tu.head())"
   ]
  },
  {
   "cell_type": "markdown",
   "id": "9359273d-dfa9-4732-a809-87fcd25dbfe6",
   "metadata": {},
   "source": [
    "### 6.4 Bank declared monthly_salary (idv_fncl)"
   ]
  },
  {
   "cell_type": "code",
   "execution_count": null,
   "id": "4bea0607-0d96-444a-94df-8ab56635f60c",
   "metadata": {
    "tags": []
   },
   "outputs": [],
   "source": [
    "# Bank data on declared annual income            \n",
    "# CSTinc = (pd.read_parquet(root+rf\"/REGULAR_DATA/CLIENT_INFO/FINANCIAL/idv_fncl_{date_}.parquet\", columns=[\"CST_ID\",\"MONTHLY_SALARY\"])\n",
    "#             .rename(columns = {'MONTHLY_SALARY':'CST_INFO_MONTHLY'})\n",
    "#             .query(\"CST_ID in @retail_id\", engine=\"python\")\n",
    "#             .set_index('CST_ID'))\n",
    "\n",
    "#temp while KF for 202212 is pending:\n",
    "try: \n",
    "    CSTinc = (pd.read_parquet(root+rf\"/REGULAR_DATA/CLIENT_INFO/FINANCIAL/idv_fncl_{date_}.parquet\", columns=[\"CST_ID\",\"MONTHLY_SALARY\"])\n",
    "                .rename(columns = {'MONTHLY_SALARY':'CST_INFO_MONTHLY'})\n",
    "                .query(\"CST_ID in @retail_id\", engine=\"python\")\n",
    "                .set_index('CST_ID'))\n",
    "       \n",
    "except:\n",
    "    CSTinc = (pd.read_parquet(root+rf\"/REGULAR_DATA/CLIENT_INFO/FINANCIAL/idv_fncl_{prev_date}.parquet\", columns=[\"CST_ID\",\"MONTHLY_SALARY\"])\n",
    "                .rename(columns = {'MONTHLY_SALARY':'CST_INFO_MONTHLY'})\n",
    "                .query(\"CST_ID in @retail_id\", engine=\"python\")\n",
    "                .set_index('CST_ID'))\n",
    "\n",
    "display(CSTinc.head())"
   ]
  },
  {
   "cell_type": "code",
   "execution_count": null,
   "id": "a124ef7d-5665-45d6-ae89-eb708f2d42f1",
   "metadata": {
    "tags": []
   },
   "outputs": [],
   "source": [
    "def get_preceding_elements(lst, last_element, num_elements):\n",
    "    # Find the index of the last element in the list\n",
    "    last_index = lst.index(last_element)\n",
    "    \n",
    "    # Calculate the starting index for the preceding elements\n",
    "    start_index = max(last_index - num_elements + 1, 0)\n",
    "    \n",
    "    # Get the preceding elements from the list\n",
    "    preceding_elements = lst[start_index:last_index+1]\n",
    "    \n",
    "    return preceding_elements"
   ]
  },
  {
   "cell_type": "markdown",
   "id": "53795880-05e5-4d1a-bc8f-351229abbe2b",
   "metadata": {},
   "source": [
    "### 6.5 ALFES Monthly Income (ALFES nbfc)"
   ]
  },
  {
   "cell_type": "code",
   "execution_count": null,
   "id": "d7a074d6-a854-423a-9f53-b818f0a8b010",
   "metadata": {
    "tags": []
   },
   "outputs": [],
   "source": [
    "%%time\n",
    "import glob\n",
    "\n",
    "def process_alfes():\n",
    "    monthly = [month[-14:-8] for month in blob.blob(r\"DATASETS/REGULAR_DATA/LOANS/ALFES/ALFES_MONTHLY/alfes*.parquet\")]\n",
    "    nbfc = [month[-14:-8] for month in blob.blob(r\"DATASETS/REGULAR_DATA/LOANS/ALFES/ALFES_NBFC_CUSTOMER/alfes*.parquet\")]\n",
    "    months_ = sorted([val for val in monthly if val in nbfc], reverse = False)\n",
    "    try:\n",
    "        months_ = sorted(get_preceding_elements(months_, date_, 13),reverse=True)\n",
    "    except:\n",
    "        try: \n",
    "            months_ = sorted(get_preceding_elements(months_, prev_date, 13),reverse=True)\n",
    "        except:\n",
    "            months_ = sorted(get_preceding_elements(months_, prev_date_1, 13),reverse=True)\n",
    "            \n",
    "    if '202208' in months_:\n",
    "        months_.remove('202208') #remove this month since it is problematic\n",
    "    else:\n",
    "        months_ = months_[1:] #get 12 months if problematic month isn't in the list\n",
    "    print(months_)\n",
    "    # Verified income from loan application    \n",
    "    return pd.concat([pd.read_parquet(root + rf\"/REGULAR_DATA/LOANS/ALFES/ALFES_MONTHLY/alfes_monthly_{month}.parquet\", columns=['CST_ID','CUST_ID_N'])\\\n",
    "                        .dropna(subset=['CST_ID'])\\\n",
    "                        .merge(pd.read_parquet(root + rf\"/REGULAR_DATA/LOANS/ALFES/ALFES_NBFC_CUSTOMER/alfes_nbfc_customer_{month}.parquet\", columns=['CUST_ID_N','MONTHLY_INCOME'])\\\n",
    "                                 .dropna(subset=['MONTHLY_INCOME']),on='CUST_ID_N', how='inner') for month in months_])\\\n",
    "                        .drop_duplicates(subset=['CST_ID'], keep='first')\\\n",
    "                        .drop(columns='CUST_ID_N')\\\n",
    "                        .query(\"CST_ID in @retail_id\", engine=\"python\")\\\n",
    "                        .set_index('CST_ID')\\\n",
    "                        .rename(columns={'MONTHLY_INCOME': 'LOAN_INCOME'})\n",
    "\n",
    "# declared & validated during loan application            \n",
    "alf = process_alfes()\n",
    "display(alf.head())\n",
    "gc.collect()"
   ]
  },
  {
   "cell_type": "markdown",
   "id": "38790d35-5de9-4eaf-b8b9-3d39c1c3943a",
   "metadata": {},
   "source": [
    "## 7. Setting UP Client base with info DF"
   ]
  },
  {
   "cell_type": "code",
   "execution_count": null,
   "id": "ffe9ecff-6b0a-429c-b240-25a8fd460c3d",
   "metadata": {
    "tags": []
   },
   "outputs": [],
   "source": [
    "%%time\n",
    "info = pd.concat([pseudo_sec, pay, tu, CSTinc, alf, all_stim, all_stim_cred, smy], ignore_index=False, axis=1)\n",
    "display(info.head())"
   ]
  },
  {
   "cell_type": "code",
   "execution_count": null,
   "id": "415f0703-0076-4330-a851-d5ca8428f9e0",
   "metadata": {
    "tags": []
   },
   "outputs": [],
   "source": [
    "%%time\n",
    "main_df = retail_wo_ip.set_index(\"CST_ID\").join(info)\n",
    "display(main_df.head())\n",
    "display(main_df.info())\n",
    "\n",
    "# Get max income for #6\n",
    "main_df['MAX_INCOME'] = main_df[['CST_INFO_MONTHLY', 'TU_INCOME', 'LOAN_INCOME', 'PAYROLL_AVG','STIM_PAY']].max(axis=1)\n",
    "display(main_df.head())\n",
    "gc.collect()"
   ]
  },
  {
   "cell_type": "code",
   "execution_count": null,
   "id": "05362dba-d070-488b-974c-42be7b1062b5",
   "metadata": {
    "tags": []
   },
   "outputs": [],
   "source": [
    "# make folders for the months\n",
    "from datetime import date\n",
    "# date_today = date.today().strftime('%Y%m%d')\n",
    "    \n",
    "newpath2 = rf\"SEC_OUTPUTS/CSV/{date_}\"\n",
    "print(newpath2)\n",
    "if not os.path.exists(newpath2):\n",
    "    os.makedirs(newpath2)"
   ]
  },
  {
   "cell_type": "code",
   "execution_count": null,
   "id": "173b3d50-8e8f-4c1a-8e5d-adaba8d0def3",
   "metadata": {
    "tags": []
   },
   "outputs": [],
   "source": [
    "# STEP 2: BPI MAX INCOME DATA\n",
    "sec_mapper = {\"UNVERIFIED\":0,\n",
    "              \"E\":1,\n",
    "              \"D\":2,\n",
    "              \"C2\":3,\n",
    "              \"C1\":4,\n",
    "              \"B2\":5,\n",
    "              \"B1\":6,\n",
    "              \"A\":7\n",
    "             }\n",
    "# sec_bins = [-np.Inf, 11690, 22381, 49761, 81832, 140284, 223807, np.Inf] # old\n",
    "sec_bins = [-np.Inf, 12030, 24060, 48120, 84210, 144360, 240600, np.Inf]\n",
    "sec_cat = [\"E\", \"D\", \"C2\", \"C1\", \"B2\", \"B1\", \"A\"]\n",
    "\n",
    "main_df = main_df.assign(SEC_INCOME = lambda x: pd.cut(x[\"MAX_INCOME\"],\n",
    "                                                       bins = sec_bins,\n",
    "                                                       labels = sec_cat,\n",
    "                                                       right=False\n",
    "                                                      )\n",
    "                         .astype(str)\\\n",
    "                         .replace(\"nan\",\"UNVERIFIED\")\\\n",
    "                         .map(sec_mapper)\\\n",
    "                         .astype(\"int64\")\\\n",
    "                        )                                        \n",
    "display(main_df.head())"
   ]
  },
  {
   "cell_type": "code",
   "execution_count": null,
   "id": "3853e963-1a38-4d6a-a14c-306246cef84c",
   "metadata": {},
   "outputs": [],
   "source": []
  }
 ],
 "metadata": {
  "availableInstances": [
   {
    "_defaultOrder": 0,
    "_isFastLaunch": true,
    "category": "General purpose",
    "gpuNum": 0,
    "hideHardwareSpecs": false,
    "memoryGiB": 4,
    "name": "ml.t3.medium",
    "vcpuNum": 2
   },
   {
    "_defaultOrder": 1,
    "_isFastLaunch": false,
    "category": "General purpose",
    "gpuNum": 0,
    "hideHardwareSpecs": false,
    "memoryGiB": 8,
    "name": "ml.t3.large",
    "vcpuNum": 2
   },
   {
    "_defaultOrder": 2,
    "_isFastLaunch": false,
    "category": "General purpose",
    "gpuNum": 0,
    "hideHardwareSpecs": false,
    "memoryGiB": 16,
    "name": "ml.t3.xlarge",
    "vcpuNum": 4
   },
   {
    "_defaultOrder": 3,
    "_isFastLaunch": false,
    "category": "General purpose",
    "gpuNum": 0,
    "hideHardwareSpecs": false,
    "memoryGiB": 32,
    "name": "ml.t3.2xlarge",
    "vcpuNum": 8
   },
   {
    "_defaultOrder": 4,
    "_isFastLaunch": true,
    "category": "General purpose",
    "gpuNum": 0,
    "hideHardwareSpecs": false,
    "memoryGiB": 8,
    "name": "ml.m5.large",
    "vcpuNum": 2
   },
   {
    "_defaultOrder": 5,
    "_isFastLaunch": false,
    "category": "General purpose",
    "gpuNum": 0,
    "hideHardwareSpecs": false,
    "memoryGiB": 16,
    "name": "ml.m5.xlarge",
    "vcpuNum": 4
   },
   {
    "_defaultOrder": 6,
    "_isFastLaunch": false,
    "category": "General purpose",
    "gpuNum": 0,
    "hideHardwareSpecs": false,
    "memoryGiB": 32,
    "name": "ml.m5.2xlarge",
    "vcpuNum": 8
   },
   {
    "_defaultOrder": 7,
    "_isFastLaunch": false,
    "category": "General purpose",
    "gpuNum": 0,
    "hideHardwareSpecs": false,
    "memoryGiB": 64,
    "name": "ml.m5.4xlarge",
    "vcpuNum": 16
   },
   {
    "_defaultOrder": 8,
    "_isFastLaunch": false,
    "category": "General purpose",
    "gpuNum": 0,
    "hideHardwareSpecs": false,
    "memoryGiB": 128,
    "name": "ml.m5.8xlarge",
    "vcpuNum": 32
   },
   {
    "_defaultOrder": 9,
    "_isFastLaunch": false,
    "category": "General purpose",
    "gpuNum": 0,
    "hideHardwareSpecs": false,
    "memoryGiB": 192,
    "name": "ml.m5.12xlarge",
    "vcpuNum": 48
   },
   {
    "_defaultOrder": 10,
    "_isFastLaunch": false,
    "category": "General purpose",
    "gpuNum": 0,
    "hideHardwareSpecs": false,
    "memoryGiB": 256,
    "name": "ml.m5.16xlarge",
    "vcpuNum": 64
   },
   {
    "_defaultOrder": 11,
    "_isFastLaunch": false,
    "category": "General purpose",
    "gpuNum": 0,
    "hideHardwareSpecs": false,
    "memoryGiB": 384,
    "name": "ml.m5.24xlarge",
    "vcpuNum": 96
   },
   {
    "_defaultOrder": 12,
    "_isFastLaunch": false,
    "category": "General purpose",
    "gpuNum": 0,
    "hideHardwareSpecs": false,
    "memoryGiB": 8,
    "name": "ml.m5d.large",
    "vcpuNum": 2
   },
   {
    "_defaultOrder": 13,
    "_isFastLaunch": false,
    "category": "General purpose",
    "gpuNum": 0,
    "hideHardwareSpecs": false,
    "memoryGiB": 16,
    "name": "ml.m5d.xlarge",
    "vcpuNum": 4
   },
   {
    "_defaultOrder": 14,
    "_isFastLaunch": false,
    "category": "General purpose",
    "gpuNum": 0,
    "hideHardwareSpecs": false,
    "memoryGiB": 32,
    "name": "ml.m5d.2xlarge",
    "vcpuNum": 8
   },
   {
    "_defaultOrder": 15,
    "_isFastLaunch": false,
    "category": "General purpose",
    "gpuNum": 0,
    "hideHardwareSpecs": false,
    "memoryGiB": 64,
    "name": "ml.m5d.4xlarge",
    "vcpuNum": 16
   },
   {
    "_defaultOrder": 16,
    "_isFastLaunch": false,
    "category": "General purpose",
    "gpuNum": 0,
    "hideHardwareSpecs": false,
    "memoryGiB": 128,
    "name": "ml.m5d.8xlarge",
    "vcpuNum": 32
   },
   {
    "_defaultOrder": 17,
    "_isFastLaunch": false,
    "category": "General purpose",
    "gpuNum": 0,
    "hideHardwareSpecs": false,
    "memoryGiB": 192,
    "name": "ml.m5d.12xlarge",
    "vcpuNum": 48
   },
   {
    "_defaultOrder": 18,
    "_isFastLaunch": false,
    "category": "General purpose",
    "gpuNum": 0,
    "hideHardwareSpecs": false,
    "memoryGiB": 256,
    "name": "ml.m5d.16xlarge",
    "vcpuNum": 64
   },
   {
    "_defaultOrder": 19,
    "_isFastLaunch": false,
    "category": "General purpose",
    "gpuNum": 0,
    "hideHardwareSpecs": false,
    "memoryGiB": 384,
    "name": "ml.m5d.24xlarge",
    "vcpuNum": 96
   },
   {
    "_defaultOrder": 20,
    "_isFastLaunch": false,
    "category": "General purpose",
    "gpuNum": 0,
    "hideHardwareSpecs": true,
    "memoryGiB": 0,
    "name": "ml.geospatial.interactive",
    "supportedImageNames": [
     "sagemaker-geospatial-v1-0"
    ],
    "vcpuNum": 0
   },
   {
    "_defaultOrder": 21,
    "_isFastLaunch": true,
    "category": "Compute optimized",
    "gpuNum": 0,
    "hideHardwareSpecs": false,
    "memoryGiB": 4,
    "name": "ml.c5.large",
    "vcpuNum": 2
   },
   {
    "_defaultOrder": 22,
    "_isFastLaunch": false,
    "category": "Compute optimized",
    "gpuNum": 0,
    "hideHardwareSpecs": false,
    "memoryGiB": 8,
    "name": "ml.c5.xlarge",
    "vcpuNum": 4
   },
   {
    "_defaultOrder": 23,
    "_isFastLaunch": false,
    "category": "Compute optimized",
    "gpuNum": 0,
    "hideHardwareSpecs": false,
    "memoryGiB": 16,
    "name": "ml.c5.2xlarge",
    "vcpuNum": 8
   },
   {
    "_defaultOrder": 24,
    "_isFastLaunch": false,
    "category": "Compute optimized",
    "gpuNum": 0,
    "hideHardwareSpecs": false,
    "memoryGiB": 32,
    "name": "ml.c5.4xlarge",
    "vcpuNum": 16
   },
   {
    "_defaultOrder": 25,
    "_isFastLaunch": false,
    "category": "Compute optimized",
    "gpuNum": 0,
    "hideHardwareSpecs": false,
    "memoryGiB": 72,
    "name": "ml.c5.9xlarge",
    "vcpuNum": 36
   },
   {
    "_defaultOrder": 26,
    "_isFastLaunch": false,
    "category": "Compute optimized",
    "gpuNum": 0,
    "hideHardwareSpecs": false,
    "memoryGiB": 96,
    "name": "ml.c5.12xlarge",
    "vcpuNum": 48
   },
   {
    "_defaultOrder": 27,
    "_isFastLaunch": false,
    "category": "Compute optimized",
    "gpuNum": 0,
    "hideHardwareSpecs": false,
    "memoryGiB": 144,
    "name": "ml.c5.18xlarge",
    "vcpuNum": 72
   },
   {
    "_defaultOrder": 28,
    "_isFastLaunch": false,
    "category": "Compute optimized",
    "gpuNum": 0,
    "hideHardwareSpecs": false,
    "memoryGiB": 192,
    "name": "ml.c5.24xlarge",
    "vcpuNum": 96
   },
   {
    "_defaultOrder": 29,
    "_isFastLaunch": true,
    "category": "Accelerated computing",
    "gpuNum": 1,
    "hideHardwareSpecs": false,
    "memoryGiB": 16,
    "name": "ml.g4dn.xlarge",
    "vcpuNum": 4
   },
   {
    "_defaultOrder": 30,
    "_isFastLaunch": false,
    "category": "Accelerated computing",
    "gpuNum": 1,
    "hideHardwareSpecs": false,
    "memoryGiB": 32,
    "name": "ml.g4dn.2xlarge",
    "vcpuNum": 8
   },
   {
    "_defaultOrder": 31,
    "_isFastLaunch": false,
    "category": "Accelerated computing",
    "gpuNum": 1,
    "hideHardwareSpecs": false,
    "memoryGiB": 64,
    "name": "ml.g4dn.4xlarge",
    "vcpuNum": 16
   },
   {
    "_defaultOrder": 32,
    "_isFastLaunch": false,
    "category": "Accelerated computing",
    "gpuNum": 1,
    "hideHardwareSpecs": false,
    "memoryGiB": 128,
    "name": "ml.g4dn.8xlarge",
    "vcpuNum": 32
   },
   {
    "_defaultOrder": 33,
    "_isFastLaunch": false,
    "category": "Accelerated computing",
    "gpuNum": 4,
    "hideHardwareSpecs": false,
    "memoryGiB": 192,
    "name": "ml.g4dn.12xlarge",
    "vcpuNum": 48
   },
   {
    "_defaultOrder": 34,
    "_isFastLaunch": false,
    "category": "Accelerated computing",
    "gpuNum": 1,
    "hideHardwareSpecs": false,
    "memoryGiB": 256,
    "name": "ml.g4dn.16xlarge",
    "vcpuNum": 64
   },
   {
    "_defaultOrder": 35,
    "_isFastLaunch": false,
    "category": "Accelerated computing",
    "gpuNum": 1,
    "hideHardwareSpecs": false,
    "memoryGiB": 61,
    "name": "ml.p3.2xlarge",
    "vcpuNum": 8
   },
   {
    "_defaultOrder": 36,
    "_isFastLaunch": false,
    "category": "Accelerated computing",
    "gpuNum": 4,
    "hideHardwareSpecs": false,
    "memoryGiB": 244,
    "name": "ml.p3.8xlarge",
    "vcpuNum": 32
   },
   {
    "_defaultOrder": 37,
    "_isFastLaunch": false,
    "category": "Accelerated computing",
    "gpuNum": 8,
    "hideHardwareSpecs": false,
    "memoryGiB": 488,
    "name": "ml.p3.16xlarge",
    "vcpuNum": 64
   },
   {
    "_defaultOrder": 38,
    "_isFastLaunch": false,
    "category": "Accelerated computing",
    "gpuNum": 8,
    "hideHardwareSpecs": false,
    "memoryGiB": 768,
    "name": "ml.p3dn.24xlarge",
    "vcpuNum": 96
   },
   {
    "_defaultOrder": 39,
    "_isFastLaunch": false,
    "category": "Memory Optimized",
    "gpuNum": 0,
    "hideHardwareSpecs": false,
    "memoryGiB": 16,
    "name": "ml.r5.large",
    "vcpuNum": 2
   },
   {
    "_defaultOrder": 40,
    "_isFastLaunch": false,
    "category": "Memory Optimized",
    "gpuNum": 0,
    "hideHardwareSpecs": false,
    "memoryGiB": 32,
    "name": "ml.r5.xlarge",
    "vcpuNum": 4
   },
   {
    "_defaultOrder": 41,
    "_isFastLaunch": false,
    "category": "Memory Optimized",
    "gpuNum": 0,
    "hideHardwareSpecs": false,
    "memoryGiB": 64,
    "name": "ml.r5.2xlarge",
    "vcpuNum": 8
   },
   {
    "_defaultOrder": 42,
    "_isFastLaunch": false,
    "category": "Memory Optimized",
    "gpuNum": 0,
    "hideHardwareSpecs": false,
    "memoryGiB": 128,
    "name": "ml.r5.4xlarge",
    "vcpuNum": 16
   },
   {
    "_defaultOrder": 43,
    "_isFastLaunch": false,
    "category": "Memory Optimized",
    "gpuNum": 0,
    "hideHardwareSpecs": false,
    "memoryGiB": 256,
    "name": "ml.r5.8xlarge",
    "vcpuNum": 32
   },
   {
    "_defaultOrder": 44,
    "_isFastLaunch": false,
    "category": "Memory Optimized",
    "gpuNum": 0,
    "hideHardwareSpecs": false,
    "memoryGiB": 384,
    "name": "ml.r5.12xlarge",
    "vcpuNum": 48
   },
   {
    "_defaultOrder": 45,
    "_isFastLaunch": false,
    "category": "Memory Optimized",
    "gpuNum": 0,
    "hideHardwareSpecs": false,
    "memoryGiB": 512,
    "name": "ml.r5.16xlarge",
    "vcpuNum": 64
   },
   {
    "_defaultOrder": 46,
    "_isFastLaunch": false,
    "category": "Memory Optimized",
    "gpuNum": 0,
    "hideHardwareSpecs": false,
    "memoryGiB": 768,
    "name": "ml.r5.24xlarge",
    "vcpuNum": 96
   },
   {
    "_defaultOrder": 47,
    "_isFastLaunch": false,
    "category": "Accelerated computing",
    "gpuNum": 1,
    "hideHardwareSpecs": false,
    "memoryGiB": 16,
    "name": "ml.g5.xlarge",
    "vcpuNum": 4
   },
   {
    "_defaultOrder": 48,
    "_isFastLaunch": false,
    "category": "Accelerated computing",
    "gpuNum": 1,
    "hideHardwareSpecs": false,
    "memoryGiB": 32,
    "name": "ml.g5.2xlarge",
    "vcpuNum": 8
   },
   {
    "_defaultOrder": 49,
    "_isFastLaunch": false,
    "category": "Accelerated computing",
    "gpuNum": 1,
    "hideHardwareSpecs": false,
    "memoryGiB": 64,
    "name": "ml.g5.4xlarge",
    "vcpuNum": 16
   },
   {
    "_defaultOrder": 50,
    "_isFastLaunch": false,
    "category": "Accelerated computing",
    "gpuNum": 1,
    "hideHardwareSpecs": false,
    "memoryGiB": 128,
    "name": "ml.g5.8xlarge",
    "vcpuNum": 32
   },
   {
    "_defaultOrder": 51,
    "_isFastLaunch": false,
    "category": "Accelerated computing",
    "gpuNum": 1,
    "hideHardwareSpecs": false,
    "memoryGiB": 256,
    "name": "ml.g5.16xlarge",
    "vcpuNum": 64
   },
   {
    "_defaultOrder": 52,
    "_isFastLaunch": false,
    "category": "Accelerated computing",
    "gpuNum": 4,
    "hideHardwareSpecs": false,
    "memoryGiB": 192,
    "name": "ml.g5.12xlarge",
    "vcpuNum": 48
   },
   {
    "_defaultOrder": 53,
    "_isFastLaunch": false,
    "category": "Accelerated computing",
    "gpuNum": 4,
    "hideHardwareSpecs": false,
    "memoryGiB": 384,
    "name": "ml.g5.24xlarge",
    "vcpuNum": 96
   },
   {
    "_defaultOrder": 54,
    "_isFastLaunch": false,
    "category": "Accelerated computing",
    "gpuNum": 8,
    "hideHardwareSpecs": false,
    "memoryGiB": 768,
    "name": "ml.g5.48xlarge",
    "vcpuNum": 192
   },
   {
    "_defaultOrder": 55,
    "_isFastLaunch": false,
    "category": "Accelerated computing",
    "gpuNum": 8,
    "hideHardwareSpecs": false,
    "memoryGiB": 1152,
    "name": "ml.p4d.24xlarge",
    "vcpuNum": 96
   },
   {
    "_defaultOrder": 56,
    "_isFastLaunch": false,
    "category": "Accelerated computing",
    "gpuNum": 8,
    "hideHardwareSpecs": false,
    "memoryGiB": 1152,
    "name": "ml.p4de.24xlarge",
    "vcpuNum": 96
   },
   {
    "_defaultOrder": 57,
    "_isFastLaunch": false,
    "category": "Accelerated computing",
    "gpuNum": 0,
    "hideHardwareSpecs": false,
    "memoryGiB": 32,
    "name": "ml.trn1.2xlarge",
    "vcpuNum": 8
   },
   {
    "_defaultOrder": 58,
    "_isFastLaunch": false,
    "category": "Accelerated computing",
    "gpuNum": 0,
    "hideHardwareSpecs": false,
    "memoryGiB": 512,
    "name": "ml.trn1.32xlarge",
    "vcpuNum": 128
   },
   {
    "_defaultOrder": 59,
    "_isFastLaunch": false,
    "category": "Accelerated computing",
    "gpuNum": 0,
    "hideHardwareSpecs": false,
    "memoryGiB": 512,
    "name": "ml.trn1n.32xlarge",
    "vcpuNum": 128
   }
  ],
  "instance_type": "ml.r5.8xlarge",
  "kernelspec": {
   "display_name": "Python 3 (Data Science 3.0)",
   "language": "python",
   "name": "python3__SAGEMAKER_INTERNAL__arn:aws:sagemaker:ap-southeast-1:492261229750:image/sagemaker-data-science-310-v1"
  },
  "language_info": {
   "codemirror_mode": {
    "name": "ipython",
    "version": 3
   },
   "file_extension": ".py",
   "mimetype": "text/x-python",
   "name": "python",
   "nbconvert_exporter": "python",
   "pygments_lexer": "ipython3",
   "version": "3.10.6"
  }
 },
 "nbformat": 4,
 "nbformat_minor": 5
}
